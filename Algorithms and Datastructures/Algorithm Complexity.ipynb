{
 "cells": [
  {
   "attachments": {},
   "cell_type": "markdown",
   "metadata": {},
   "source": [
    "# Analyzing the complexity of algorithms\n",
    "\n",
    "Algorithms can be analyzed for their complexity and as such grant an insight how the running time of the program depends on the size of the input `n`. Here I wrote a simple algorithm analysis program that can be used to test if you analyzed the complexity of the algorithm correctly. \n",
    "\n",
    "First we need a timer to measure the execution time of our function/algorithm. For that we use the `time()` function from the `time` module. We also need the data array `A[]` and the input lengths `n` and for that use numpy. For plotting the measurements we can use `matplotlib`."
   ]
  },
  {
   "cell_type": "code",
   "execution_count": 51,
   "metadata": {},
   "outputs": [],
   "source": [
    "import time\n",
    "import numpy as np\n",
    "import matplotlib.pyplot as plt\n",
    "import math"
   ]
  },
  {
   "attachments": {},
   "cell_type": "markdown",
   "metadata": {},
   "source": [
    "The complexity of any function can be analyzed by measuring the time it takes to execute the function and then by making the input of the function bigger with every subsequent function call. This an be achived by the following `complexity` function, where `n` are all the different input sizes:"
   ]
  },
  {
   "cell_type": "code",
   "execution_count": 52,
   "metadata": {},
   "outputs": [],
   "source": [
    "def analyzeComplexity(f: callable, n:list[float]):\n",
    "    countN = len(n)\n",
    "    ret = np.arange(countN, dtype=float)\n",
    "\n",
    "    # Some pretty printing:\n",
    "    print(\"Analyzing function complexity. Progress:\")\n",
    "    print(\"[\", end='')\n",
    "    for i in range(countN):\n",
    "        print(\"-\", end='')\n",
    "    print(\"]\")\n",
    "\n",
    "    # Measure the time according to each input size n[i]\n",
    "    print(\"[\", end='')\n",
    "    for i in range(countN):\n",
    "        A = np.full([n[i]], 1)\n",
    "        startTime = time.time()\n",
    "\n",
    "        # Execute the function and measure the execution time\n",
    "        f(A, n[i])\n",
    "\n",
    "        endTime = time.time()\n",
    "        ret[i] = endTime - startTime\n",
    "        print(\"*\", end='')\n",
    "    print(\"]\")\n",
    "\n",
    "    return (n, ret)"
   ]
  },
  {
   "attachments": {},
   "cell_type": "markdown",
   "metadata": {},
   "source": [
    "Here we have a simple function to plot the result of the complexity analysis:"
   ]
  },
  {
   "cell_type": "code",
   "execution_count": 53,
   "metadata": {},
   "outputs": [],
   "source": [
    "def plotComplexity(graph, f):\n",
    "    x, y = graph\n",
    "    plt.plot(x, y)\n",
    "    plt.title(\"Complexity of \" + str(f))\n",
    "    plt.xlabel(\"n [count]\")\n",
    "    plt.ylabel(\"t [s]\")\n",
    "    plt.show()"
   ]
  },
  {
   "attachments": {},
   "cell_type": "markdown",
   "metadata": {},
   "source": [
    "Now we can define the functions that we want to analyze. In this case it is a random function from my homework:"
   ]
  },
  {
   "cell_type": "code",
   "execution_count": 54,
   "metadata": {},
   "outputs": [],
   "source": [
    "def f1(A, n) -> int:\n",
    "    if(n == 0):\n",
    "        return 0\n",
    "    s:int = 0\n",
    "    for i in range(n):\n",
    "        s = s + A[i]\n",
    "    s = s + f1(A, math.floor(n/2))\n",
    "    return s\n",
    "\n",
    "def f2(A, n) -> int:\n",
    "    a = n**3\n",
    "    b = 1\n",
    "    while a > 1:\n",
    "        b = b + 1\n",
    "        c = n\n",
    "        i = 0\n",
    "        while True:\n",
    "            a = math.floor(b/2)\n",
    "            c = 2*c/n\n",
    "            b = b*n\n",
    "            if c < n:\n",
    "                break"
   ]
  },
  {
   "attachments": {},
   "cell_type": "markdown",
   "metadata": {},
   "source": [
    "Using all the above defined we can now analyze the compexities of pretty much any function or algorithm and compare them to what we think the complexities are:"
   ]
  },
  {
   "cell_type": "code",
   "execution_count": 55,
   "metadata": {},
   "outputs": [
    {
     "name": "stdout",
     "output_type": "stream",
     "text": [
      "n: [100000, 215443, 464158, 1000000, 2154434, 4641588, 10000000, 21544346, 46415888, 100000000]\n",
      "Analyzing function complexity. Progress:\n",
      "[----------]\n",
      "[******"
     ]
    },
    {
     "ename": "KeyboardInterrupt",
     "evalue": "",
     "output_type": "error",
     "traceback": [
      "\u001b[1;31m---------------------------------------------------------------------------\u001b[0m",
      "\u001b[1;31mKeyboardInterrupt\u001b[0m                         Traceback (most recent call last)",
      "\u001b[1;32mc:\\Source\\github\\informatik\\Algorithms and Datastructures\\Algorithm Complexity.ipynb Cell 10\u001b[0m in \u001b[0;36m8\n\u001b[0;32m      <a href='vscode-notebook-cell:/c%3A/Source/github/informatik/Algorithms%20and%20Datastructures/Algorithm%20Complexity.ipynb#X10sZmlsZQ%3D%3D?line=4'>5</a>\u001b[0m \u001b[39mprint\u001b[39m(n)\n\u001b[0;32m      <a href='vscode-notebook-cell:/c%3A/Source/github/informatik/Algorithms%20and%20Datastructures/Algorithm%20Complexity.ipynb#X10sZmlsZQ%3D%3D?line=6'>7</a>\u001b[0m \u001b[39m# Finally plot a graph with the measurements\u001b[39;00m\n\u001b[1;32m----> <a href='vscode-notebook-cell:/c%3A/Source/github/informatik/Algorithms%20and%20Datastructures/Algorithm%20Complexity.ipynb#X10sZmlsZQ%3D%3D?line=7'>8</a>\u001b[0m complF \u001b[39m=\u001b[39m analyzeComplexity(f1, n)\n\u001b[0;32m      <a href='vscode-notebook-cell:/c%3A/Source/github/informatik/Algorithms%20and%20Datastructures/Algorithm%20Complexity.ipynb#X10sZmlsZQ%3D%3D?line=8'>9</a>\u001b[0m plotComplexity(complF, f1)\n\u001b[0;32m     <a href='vscode-notebook-cell:/c%3A/Source/github/informatik/Algorithms%20and%20Datastructures/Algorithm%20Complexity.ipynb#X10sZmlsZQ%3D%3D?line=10'>11</a>\u001b[0m n: \u001b[39mlist\u001b[39m[\u001b[39mfloat\u001b[39m] \u001b[39m=\u001b[39m [math\u001b[39m.\u001b[39mfloor(\u001b[39m10\u001b[39m \u001b[39m*\u001b[39m\u001b[39m*\u001b[39m (i\u001b[39m/\u001b[39m\u001b[39m3\u001b[39m)) \u001b[39mfor\u001b[39;00m i \u001b[39min\u001b[39;00m \u001b[39mrange\u001b[39m(\u001b[39m15\u001b[39m, \u001b[39m25\u001b[39m)]\n",
      "\u001b[1;32mc:\\Source\\github\\informatik\\Algorithms and Datastructures\\Algorithm Complexity.ipynb Cell 10\u001b[0m in \u001b[0;36m1\n\u001b[0;32m     <a href='vscode-notebook-cell:/c%3A/Source/github/informatik/Algorithms%20and%20Datastructures/Algorithm%20Complexity.ipynb#X10sZmlsZQ%3D%3D?line=15'>16</a>\u001b[0m startTime \u001b[39m=\u001b[39m time\u001b[39m.\u001b[39mtime()\n\u001b[0;32m     <a href='vscode-notebook-cell:/c%3A/Source/github/informatik/Algorithms%20and%20Datastructures/Algorithm%20Complexity.ipynb#X10sZmlsZQ%3D%3D?line=17'>18</a>\u001b[0m \u001b[39m# Execute the function and measure the execution time\u001b[39;00m\n\u001b[1;32m---> <a href='vscode-notebook-cell:/c%3A/Source/github/informatik/Algorithms%20and%20Datastructures/Algorithm%20Complexity.ipynb#X10sZmlsZQ%3D%3D?line=18'>19</a>\u001b[0m f(A, n[i])\n\u001b[0;32m     <a href='vscode-notebook-cell:/c%3A/Source/github/informatik/Algorithms%20and%20Datastructures/Algorithm%20Complexity.ipynb#X10sZmlsZQ%3D%3D?line=20'>21</a>\u001b[0m endTime \u001b[39m=\u001b[39m time\u001b[39m.\u001b[39mtime()\n\u001b[0;32m     <a href='vscode-notebook-cell:/c%3A/Source/github/informatik/Algorithms%20and%20Datastructures/Algorithm%20Complexity.ipynb#X10sZmlsZQ%3D%3D?line=21'>22</a>\u001b[0m ret[i] \u001b[39m=\u001b[39m endTime \u001b[39m-\u001b[39m startTime\n",
      "\u001b[1;32mc:\\Source\\github\\informatik\\Algorithms and Datastructures\\Algorithm Complexity.ipynb Cell 10\u001b[0m in \u001b[0;36m6\n\u001b[0;32m      <a href='vscode-notebook-cell:/c%3A/Source/github/informatik/Algorithms%20and%20Datastructures/Algorithm%20Complexity.ipynb#X10sZmlsZQ%3D%3D?line=3'>4</a>\u001b[0m s:\u001b[39mint\u001b[39m \u001b[39m=\u001b[39m \u001b[39m0\u001b[39m\n\u001b[0;32m      <a href='vscode-notebook-cell:/c%3A/Source/github/informatik/Algorithms%20and%20Datastructures/Algorithm%20Complexity.ipynb#X10sZmlsZQ%3D%3D?line=4'>5</a>\u001b[0m \u001b[39mfor\u001b[39;00m i \u001b[39min\u001b[39;00m \u001b[39mrange\u001b[39m(n):\n\u001b[1;32m----> <a href='vscode-notebook-cell:/c%3A/Source/github/informatik/Algorithms%20and%20Datastructures/Algorithm%20Complexity.ipynb#X10sZmlsZQ%3D%3D?line=5'>6</a>\u001b[0m     s \u001b[39m=\u001b[39m s \u001b[39m+\u001b[39m A[i]\n\u001b[0;32m      <a href='vscode-notebook-cell:/c%3A/Source/github/informatik/Algorithms%20and%20Datastructures/Algorithm%20Complexity.ipynb#X10sZmlsZQ%3D%3D?line=6'>7</a>\u001b[0m s \u001b[39m=\u001b[39m s \u001b[39m+\u001b[39m f1(A, math\u001b[39m.\u001b[39mfloor(n\u001b[39m/\u001b[39m\u001b[39m2\u001b[39m))\n\u001b[0;32m      <a href='vscode-notebook-cell:/c%3A/Source/github/informatik/Algorithms%20and%20Datastructures/Algorithm%20Complexity.ipynb#X10sZmlsZQ%3D%3D?line=7'>8</a>\u001b[0m \u001b[39mreturn\u001b[39;00m s\n",
      "\u001b[1;31mKeyboardInterrupt\u001b[0m: "
     ]
    }
   ],
   "source": [
    "# Choose some input sizes n, best if they are in logarithmic scale to see\n",
    "# how the function behaves with small and large input\n",
    "n: list[float] = [math.floor(10 ** (i/3)) for i in range(15, 25)]\n",
    "print(\"n: \", end='')\n",
    "print(n)\n",
    "\n",
    "# Finally plot a graph with the measurements\n",
    "complF = analyzeComplexity(f1, n)\n",
    "plotComplexity(complF, f1)\n",
    "\n",
    "n: list[float] = [math.floor(10 ** (i/3)) for i in range(15, 25)]\n",
    "print(\"n: \", end='')\n",
    "print(n)\n",
    "\n",
    "# Finally plot a graph with the measurements\n",
    "complF = analyzeComplexity(f2, n)\n",
    "plotComplexity(complF, f2)"
   ]
  }
 ],
 "metadata": {
  "kernelspec": {
   "display_name": "Python 3 (ipykernel)",
   "language": "python",
   "name": "python3"
  },
  "language_info": {
   "codemirror_mode": {
    "name": "ipython",
    "version": 3
   },
   "file_extension": ".py",
   "mimetype": "text/x-python",
   "name": "python",
   "nbconvert_exporter": "python",
   "pygments_lexer": "ipython3",
   "version": "3.10.10"
  },
  "orig_nbformat": 4
 },
 "nbformat": 4,
 "nbformat_minor": 2
}
