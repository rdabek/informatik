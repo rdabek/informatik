{
 "cells": [
  {
   "attachments": {},
   "cell_type": "markdown",
   "metadata": {},
   "source": [
    "# Analyzing the complexity of algorithms\n",
    "\n",
    "Algorithms can be analyzed for their complexyty and as such grant an insight how the running time of the program depends on the size of the input `n`.\n",
    "\n",
    "First we need a timer to time the execution time of our algorithm. For that we use the `timer` module. We also need the array instances `n` and for that use numpy. For plotting the measurements we can use matplotlib."
   ]
  },
  {
   "cell_type": "code",
   "execution_count": 223,
   "metadata": {},
   "outputs": [],
   "source": [
    "import time\n",
    "import numpy as np\n",
    "import matplotlib.pyplot as plt\n",
    "import math"
   ]
  },
  {
   "attachments": {},
   "cell_type": "markdown",
   "metadata": {},
   "source": [
    "Now we can define our function that we want to analyze:"
   ]
  },
  {
   "cell_type": "code",
   "execution_count": 224,
   "metadata": {},
   "outputs": [],
   "source": [
    "def f(A, n:int) -> int:\n",
    "    if(n == 0):\n",
    "        return 0\n",
    "    s = 0\n",
    "    for i in range(n-1):\n",
    "        s = s + A[i]\n",
    "    s = s + f(A, math.floor(n/2))"
   ]
  },
  {
   "attachments": {},
   "cell_type": "markdown",
   "metadata": {},
   "source": [
    "The complexity of any function can be analyzed by measuring the time it takes to execute the function and then by making the input of the function bigger with every subsequent function call. This an be achived by the following `complexity` function:"
   ]
  },
  {
   "cell_type": "code",
   "execution_count": 225,
   "metadata": {},
   "outputs": [],
   "source": [
    "def analyzeComplexity(f: callable, n:list[int]):\n",
    "    countN = len(n)\n",
    "    ret = np.arange(countN, dtype=float)\n",
    "\n",
    "    print(\"Analyzing function complexity. Progress:\")\n",
    "    print(\"[\", end='')\n",
    "    for i in range(countN):\n",
    "        print(\"-\", end='')\n",
    "    print(\"]\")\n",
    "\n",
    "    print(\"[\", end='')\n",
    "    for i in range(countN):\n",
    "        A = np.full([n[i]], 1)\n",
    "        startTime = time.time()\n",
    "        n1 = int(n[i])\n",
    "        f(A, n1)\n",
    "        endTime = time.time()\n",
    "        dT = endTime - startTime\n",
    "        ret[i] = dT\n",
    "        print(\"*\", end='')\n",
    "    print(\"]\")\n",
    "\n",
    "    x = np.arange(countN)\n",
    "    print(ret)\n",
    "\n",
    "    return (x, ret)"
   ]
  },
  {
   "attachments": {},
   "cell_type": "markdown",
   "metadata": {},
   "source": [
    "Using all the aboce defined we can now analyze the compexities of functions and compare them to what we think the complexities are:"
   ]
  },
  {
   "cell_type": "code",
   "execution_count": 226,
   "metadata": {},
   "outputs": [
    {
     "name": "stdout",
     "output_type": "stream",
     "text": [
      "[46, 100, 215, 464, 1000]\n",
      "Analyzing function complexity. Progress:\n",
      "[-----]\n",
      "["
     ]
    },
    {
     "ename": "TypeError",
     "evalue": "unsupported operand type(s) for +: 'int' and 'NoneType'",
     "output_type": "error",
     "traceback": [
      "\u001b[1;31m---------------------------------------------------------------------------\u001b[0m",
      "\u001b[1;31mTypeError\u001b[0m                                 Traceback (most recent call last)",
      "\u001b[1;32mc:\\Source\\github\\informatik\\Algorithms and Datastructures\\Algorithm Complexity.ipynb Cell 8\u001b[0m in \u001b[0;36m5\n\u001b[0;32m      <a href='vscode-notebook-cell:/c%3A/Source/github/informatik/Algorithms%20and%20Datastructures/Algorithm%20Complexity.ipynb#X13sZmlsZQ%3D%3D?line=0'>1</a>\u001b[0m n:\u001b[39mlist\u001b[39m[\u001b[39mint\u001b[39m] \u001b[39m=\u001b[39m [\u001b[39mint\u001b[39m(math\u001b[39m.\u001b[39mfloor(\u001b[39m10\u001b[39m \u001b[39m*\u001b[39m\u001b[39m*\u001b[39m (x\u001b[39m/\u001b[39m\u001b[39m3\u001b[39m))) \u001b[39mfor\u001b[39;00m x \u001b[39min\u001b[39;00m \u001b[39mrange\u001b[39m(\u001b[39m5\u001b[39m, \u001b[39m10\u001b[39m)]\n\u001b[0;32m      <a href='vscode-notebook-cell:/c%3A/Source/github/informatik/Algorithms%20and%20Datastructures/Algorithm%20Complexity.ipynb#X13sZmlsZQ%3D%3D?line=2'>3</a>\u001b[0m \u001b[39mprint\u001b[39m(n)\n\u001b[1;32m----> <a href='vscode-notebook-cell:/c%3A/Source/github/informatik/Algorithms%20and%20Datastructures/Algorithm%20Complexity.ipynb#X13sZmlsZQ%3D%3D?line=4'>5</a>\u001b[0m xCompl, yCompl \u001b[39m=\u001b[39m analyzeComplexity(f, n)\n\u001b[0;32m      <a href='vscode-notebook-cell:/c%3A/Source/github/informatik/Algorithms%20and%20Datastructures/Algorithm%20Complexity.ipynb#X13sZmlsZQ%3D%3D?line=5'>6</a>\u001b[0m plt\u001b[39m.\u001b[39mplot(xCompl, yCompl)\n\u001b[0;32m      <a href='vscode-notebook-cell:/c%3A/Source/github/informatik/Algorithms%20and%20Datastructures/Algorithm%20Complexity.ipynb#X13sZmlsZQ%3D%3D?line=6'>7</a>\u001b[0m plt\u001b[39m.\u001b[39mtitle(\u001b[39m\"\u001b[39m\u001b[39mComplexity of \u001b[39m\u001b[39m\"\u001b[39m \u001b[39m+\u001b[39m \u001b[39mstr\u001b[39m(f))\n",
      "\u001b[1;32mc:\\Source\\github\\informatik\\Algorithms and Datastructures\\Algorithm Complexity.ipynb Cell 8\u001b[0m in \u001b[0;36m1\n\u001b[0;32m     <a href='vscode-notebook-cell:/c%3A/Source/github/informatik/Algorithms%20and%20Datastructures/Algorithm%20Complexity.ipynb#X13sZmlsZQ%3D%3D?line=13'>14</a>\u001b[0m startTime \u001b[39m=\u001b[39m time\u001b[39m.\u001b[39mtime()\n\u001b[0;32m     <a href='vscode-notebook-cell:/c%3A/Source/github/informatik/Algorithms%20and%20Datastructures/Algorithm%20Complexity.ipynb#X13sZmlsZQ%3D%3D?line=14'>15</a>\u001b[0m n1 \u001b[39m=\u001b[39m \u001b[39mint\u001b[39m(n[i])\n\u001b[1;32m---> <a href='vscode-notebook-cell:/c%3A/Source/github/informatik/Algorithms%20and%20Datastructures/Algorithm%20Complexity.ipynb#X13sZmlsZQ%3D%3D?line=15'>16</a>\u001b[0m f(A, n1)\n\u001b[0;32m     <a href='vscode-notebook-cell:/c%3A/Source/github/informatik/Algorithms%20and%20Datastructures/Algorithm%20Complexity.ipynb#X13sZmlsZQ%3D%3D?line=16'>17</a>\u001b[0m endTime \u001b[39m=\u001b[39m time\u001b[39m.\u001b[39mtime()\n\u001b[0;32m     <a href='vscode-notebook-cell:/c%3A/Source/github/informatik/Algorithms%20and%20Datastructures/Algorithm%20Complexity.ipynb#X13sZmlsZQ%3D%3D?line=17'>18</a>\u001b[0m dT \u001b[39m=\u001b[39m endTime \u001b[39m-\u001b[39m startTime\n",
      "\u001b[1;32mc:\\Source\\github\\informatik\\Algorithms and Datastructures\\Algorithm Complexity.ipynb Cell 8\u001b[0m in \u001b[0;36m7\n\u001b[0;32m      <a href='vscode-notebook-cell:/c%3A/Source/github/informatik/Algorithms%20and%20Datastructures/Algorithm%20Complexity.ipynb#X13sZmlsZQ%3D%3D?line=4'>5</a>\u001b[0m \u001b[39mfor\u001b[39;00m i \u001b[39min\u001b[39;00m \u001b[39mrange\u001b[39m(n\u001b[39m-\u001b[39m\u001b[39m1\u001b[39m):\n\u001b[0;32m      <a href='vscode-notebook-cell:/c%3A/Source/github/informatik/Algorithms%20and%20Datastructures/Algorithm%20Complexity.ipynb#X13sZmlsZQ%3D%3D?line=5'>6</a>\u001b[0m     s \u001b[39m=\u001b[39m s \u001b[39m+\u001b[39m A[i]\n\u001b[1;32m----> <a href='vscode-notebook-cell:/c%3A/Source/github/informatik/Algorithms%20and%20Datastructures/Algorithm%20Complexity.ipynb#X13sZmlsZQ%3D%3D?line=6'>7</a>\u001b[0m s \u001b[39m=\u001b[39m s \u001b[39m+\u001b[39m f(A, math\u001b[39m.\u001b[39;49mfloor(n\u001b[39m/\u001b[39;49m\u001b[39m2\u001b[39;49m))\n",
      "\u001b[1;32mc:\\Source\\github\\informatik\\Algorithms and Datastructures\\Algorithm Complexity.ipynb Cell 8\u001b[0m in \u001b[0;36m7\n\u001b[0;32m      <a href='vscode-notebook-cell:/c%3A/Source/github/informatik/Algorithms%20and%20Datastructures/Algorithm%20Complexity.ipynb#X13sZmlsZQ%3D%3D?line=4'>5</a>\u001b[0m \u001b[39mfor\u001b[39;00m i \u001b[39min\u001b[39;00m \u001b[39mrange\u001b[39m(n\u001b[39m-\u001b[39m\u001b[39m1\u001b[39m):\n\u001b[0;32m      <a href='vscode-notebook-cell:/c%3A/Source/github/informatik/Algorithms%20and%20Datastructures/Algorithm%20Complexity.ipynb#X13sZmlsZQ%3D%3D?line=5'>6</a>\u001b[0m     s \u001b[39m=\u001b[39m s \u001b[39m+\u001b[39m A[i]\n\u001b[1;32m----> <a href='vscode-notebook-cell:/c%3A/Source/github/informatik/Algorithms%20and%20Datastructures/Algorithm%20Complexity.ipynb#X13sZmlsZQ%3D%3D?line=6'>7</a>\u001b[0m s \u001b[39m=\u001b[39m s \u001b[39m+\u001b[39m f(A, math\u001b[39m.\u001b[39;49mfloor(n\u001b[39m/\u001b[39;49m\u001b[39m2\u001b[39;49m))\n",
      "    \u001b[1;31m[... skipping similar frames: f at line 7 (2 times)]\u001b[0m\n",
      "\u001b[1;32mc:\\Source\\github\\informatik\\Algorithms and Datastructures\\Algorithm Complexity.ipynb Cell 8\u001b[0m in \u001b[0;36m7\n\u001b[0;32m      <a href='vscode-notebook-cell:/c%3A/Source/github/informatik/Algorithms%20and%20Datastructures/Algorithm%20Complexity.ipynb#X13sZmlsZQ%3D%3D?line=4'>5</a>\u001b[0m \u001b[39mfor\u001b[39;00m i \u001b[39min\u001b[39;00m \u001b[39mrange\u001b[39m(n\u001b[39m-\u001b[39m\u001b[39m1\u001b[39m):\n\u001b[0;32m      <a href='vscode-notebook-cell:/c%3A/Source/github/informatik/Algorithms%20and%20Datastructures/Algorithm%20Complexity.ipynb#X13sZmlsZQ%3D%3D?line=5'>6</a>\u001b[0m     s \u001b[39m=\u001b[39m s \u001b[39m+\u001b[39m A[i]\n\u001b[1;32m----> <a href='vscode-notebook-cell:/c%3A/Source/github/informatik/Algorithms%20and%20Datastructures/Algorithm%20Complexity.ipynb#X13sZmlsZQ%3D%3D?line=6'>7</a>\u001b[0m s \u001b[39m=\u001b[39m s \u001b[39m+\u001b[39;49m f(A, math\u001b[39m.\u001b[39;49mfloor(n\u001b[39m/\u001b[39;49m\u001b[39m2\u001b[39;49m))\n",
      "\u001b[1;31mTypeError\u001b[0m: unsupported operand type(s) for +: 'int' and 'NoneType'"
     ]
    }
   ],
   "source": [
    "n:list[int] = [int(math.floor(10 ** (x/3))) for x in range(5, 10)]\n",
    "\n",
    "print(n)\n",
    "\n",
    "xCompl, yCompl = analyzeComplexity(f, n)\n",
    "plt.plot(xCompl, yCompl)\n",
    "plt.title(\"Complexity of \" + str(f))\n",
    "plt.xlabel(\"n [count]\")\n",
    "plt.ylabel(\"t [s]\")\n",
    "plt.show()"
   ]
  }
 ],
 "metadata": {
  "kernelspec": {
   "display_name": "Python 3",
   "language": "python",
   "name": "python3"
  },
  "language_info": {
   "codemirror_mode": {
    "name": "ipython",
    "version": 3
   },
   "file_extension": ".py",
   "mimetype": "text/x-python",
   "name": "python",
   "nbconvert_exporter": "python",
   "pygments_lexer": "ipython3",
   "version": "3.10.10"
  },
  "orig_nbformat": 4
 },
 "nbformat": 4,
 "nbformat_minor": 2
}
