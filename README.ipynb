{
 "cells": [
  {
   "cell_type": "markdown",
   "id": "c733a991-2d4e-4990-aee7-5e84cb52a308",
   "metadata": {},
   "source": [
    "# Computer Science\n",
    "\n",
    "## Number systems\n",
    "\n",
    "### General\n",
    "\n",
    "$b$ ... Basis: $b \\geq 2, b \\in \\mathbb{N}$\n",
    "\n",
    "$a_i$ ... value at position $i \\in \\mathbb{Z}$\n",
    "\n",
    "$Z$ ... Number to be represented\n",
    "\n",
    "### Representation\n",
    "\n",
    "$Z = \\sum_{i \\in \\mathbb{Z}} a_i \\cdot b^i$\n",
    "\n",
    "$Z = \\dots + a_3 \\cdot b^3 + a_2 \\cdot b^2 + a_1 \\cdot b^1 + a_0 \\cdot b^0 + a_{-1} \\cdot b^{-1} + a_{-2} \\cdot b^{-2} + a_{-3} \\cdot b^{-3} + \\dots$"
   ]
  }
 ],
 "metadata": {
  "kernelspec": {
   "display_name": "Python 3 (ipykernel)",
   "language": "python",
   "name": "python3"
  },
  "language_info": {
   "codemirror_mode": {
    "name": "ipython",
    "version": 3
   },
   "file_extension": ".py",
   "mimetype": "text/x-python",
   "name": "python",
   "nbconvert_exporter": "python",
   "pygments_lexer": "ipython3",
   "version": "3.10.8"
  }
 },
 "nbformat": 4,
 "nbformat_minor": 5
}
